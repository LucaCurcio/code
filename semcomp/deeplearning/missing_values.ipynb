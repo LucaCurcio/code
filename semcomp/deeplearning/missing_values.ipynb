{
  "nbformat": 4,
  "nbformat_minor": 0,
  "metadata": {
    "colab": {
      "name": "missing_values.ipynb",
      "provenance": []
    },
    "kernelspec": {
      "name": "python3",
      "display_name": "Python 3"
    }
  },
  "cells": [
    {
      "cell_type": "code",
      "metadata": {
        "id": "GhpFe3V17ge1",
        "colab_type": "code",
        "colab": {}
      },
      "source": [
        "import pandas as pd\n",
        "from sklearn import tree\n",
        "from sklearn.metrics import mean_absolute_error\n",
        "from sklearn.model_selection import train_test_split\n",
        "from sklearn.ensemble import RandomForestRegressor\n",
        "import numpy as np"
      ],
      "execution_count": 0,
      "outputs": []
    },
    {
      "cell_type": "code",
      "metadata": {
        "id": "Cp-YbaRo9IxU",
        "colab_type": "code",
        "colab": {}
      },
      "source": [
        "dados_treino = pd.read_csv('treino.csv', index_col='Id')\n",
        "dados_teste = pd.read_csv('teste.csv', index_col='Id')"
      ],
      "execution_count": 0,
      "outputs": []
    },
    {
      "cell_type": "code",
      "metadata": {
        "id": "7mH-jhb8-dJz",
        "colab_type": "code",
        "colab": {}
      },
      "source": [
        "dados_treino.head()"
      ],
      "execution_count": 0,
      "outputs": []
    },
    {
      "cell_type": "code",
      "metadata": {
        "id": "oDXJeFNW8qds",
        "colab_type": "code",
        "colab": {}
      },
      "source": [
        "dados_treino.Alley.isnull()"
      ],
      "execution_count": 0,
      "outputs": []
    },
    {
      "cell_type": "code",
      "metadata": {
        "id": "_NJzjr0v86k0",
        "colab_type": "code",
        "colab": {}
      },
      "source": [
        "dados_treino.Alley.isna()"
      ],
      "execution_count": 0,
      "outputs": []
    },
    {
      "cell_type": "code",
      "metadata": {
        "id": "1KDROy7u8-1s",
        "colab_type": "code",
        "colab": {}
      },
      "source": [
        "dados_treino.Alley.isna().sum()"
      ],
      "execution_count": 0,
      "outputs": []
    },
    {
      "cell_type": "code",
      "metadata": {
        "id": "JAFkHHkV9D2E",
        "colab_type": "code",
        "colab": {}
      },
      "source": [
        "dados_treino.Alley.isnull().sum()"
      ],
      "execution_count": 0,
      "outputs": []
    },
    {
      "cell_type": "code",
      "metadata": {
        "id": "153WFcpF-1zd",
        "colab_type": "code",
        "colab": {}
      },
      "source": [
        "dados_treino_copia = dados_treino.copy()"
      ],
      "execution_count": 0,
      "outputs": []
    },
    {
      "cell_type": "code",
      "metadata": {
        "id": "QMkV_hZn-4eN",
        "colab_type": "code",
        "colab": {}
      },
      "source": [
        "dados_treino_copia.drop('Alley', axis=1).head(5)"
      ],
      "execution_count": 0,
      "outputs": []
    },
    {
      "cell_type": "code",
      "metadata": {
        "id": "Zn3caDybAAW4",
        "colab_type": "code",
        "colab": {}
      },
      "source": [
        "X = dados_treino_copia.select_dtypes(exclude=['object'])\n",
        "X.info()"
      ],
      "execution_count": 0,
      "outputs": []
    },
    {
      "cell_type": "code",
      "metadata": {
        "id": "88tsB08yAnAh",
        "colab_type": "code",
        "colab": {}
      },
      "source": [
        "X.dropna(axis=0, subset=['SalePrice'], inplace=True)"
      ],
      "execution_count": 0,
      "outputs": []
    },
    {
      "cell_type": "code",
      "metadata": {
        "id": "YPm_FBvXKcxO",
        "colab_type": "code",
        "colab": {}
      },
      "source": [
        "y = X.SalePrice"
      ],
      "execution_count": 0,
      "outputs": []
    },
    {
      "cell_type": "code",
      "metadata": {
        "id": "LYodQ2EtKkiP",
        "colab_type": "code",
        "colab": {}
      },
      "source": [
        "X.drop(['SalePrice'], axis=1, inplace=True)"
      ],
      "execution_count": 0,
      "outputs": []
    },
    {
      "cell_type": "code",
      "metadata": {
        "id": "BbiKfP0xKuJX",
        "colab_type": "code",
        "colab": {}
      },
      "source": [
        "X_treino, X_valid, y_treino, y_valid = train_test_split(X, y, train_size=0.8, test_size=0.2, random_state=42)\n"
      ],
      "execution_count": 0,
      "outputs": []
    },
    {
      "cell_type": "code",
      "metadata": {
        "id": "TNyIax1eMctt",
        "colab_type": "code",
        "colab": {}
      },
      "source": [
        "cols_cat = [coluna for coluna in X_treino.columns\n",
        "            if X_treino[coluna].nunique() < 10 \n",
        "            and X_treino[coluna].dtype == \"object\"]"
      ],
      "execution_count": 0,
      "outputs": []
    },
    {
      "cell_type": "code",
      "metadata": {
        "id": "6WCCUWQqNMdT",
        "colab_type": "code",
        "colab": {}
      },
      "source": [
        "cols_num = [coluna for coluna in X_treino.columns \n",
        "            if X_treino[coluna].dtype in ['int64' , 'float64']]"
      ],
      "execution_count": 0,
      "outputs": []
    },
    {
      "cell_type": "code",
      "metadata": {
        "id": "s1Lym76fNzIZ",
        "colab_type": "code",
        "colab": {}
      },
      "source": [
        "cols_num[:5]"
      ],
      "execution_count": 0,
      "outputs": []
    },
    {
      "cell_type": "code",
      "metadata": {
        "id": "8wHXJQRFN6N-",
        "colab_type": "code",
        "colab": {}
      },
      "source": [
        "cols = cols_cat + cols_num\n",
        "X_treino_sel = X_treino[cols].copy()\n",
        "X_valid_sel = X_valid[cols].copy()\n",
        "X_teste_sel = dados_teste[cols].copy()\n"
      ],
      "execution_count": 0,
      "outputs": []
    },
    {
      "cell_type": "code",
      "metadata": {
        "id": "PFX0HAoJOwkT",
        "colab_type": "code",
        "colab": {}
      },
      "source": [
        "from sklearn.impute import SimpleImputer"
      ],
      "execution_count": 0,
      "outputs": []
    },
    {
      "cell_type": "code",
      "metadata": {
        "id": "nS7hW5RTQHRa",
        "colab_type": "code",
        "colab": {}
      },
      "source": [
        "transformer_num = SimpleImputer(strategy='median')"
      ],
      "execution_count": 0,
      "outputs": []
    },
    {
      "cell_type": "code",
      "metadata": {
        "id": "b-sP3mzrRmSY",
        "colab_type": "code",
        "colab": {}
      },
      "source": [
        "from sklearn.preprocessing import OneHotEncoder\n",
        "from sklearn.pipeline import Pipeline"
      ],
      "execution_count": 0,
      "outputs": []
    },
    {
      "cell_type": "code",
      "metadata": {
        "id": "AM1XvmDeQoIv",
        "colab_type": "code",
        "colab": {}
      },
      "source": [
        "transformer_cat = Pipeline(\n",
        "                    steps=[( 'imputacao', SimpleImputer(strategy='constant')),\n",
        "                           ('encoding', OneHotEncoder(handle_unknown='ignore'))])"
      ],
      "execution_count": 0,
      "outputs": []
    },
    {
      "cell_type": "code",
      "metadata": {
        "id": "Fi7ygpYzSjFw",
        "colab_type": "code",
        "colab": {}
      },
      "source": [
        "transformers = [('transformer_num', transformer_num, cols_num),\n",
        "                ('transformer_cat', transformer_cat, cols_cat)]"
      ],
      "execution_count": 0,
      "outputs": []
    },
    {
      "cell_type": "code",
      "metadata": {
        "id": "rQKenIUmTXWw",
        "colab_type": "code",
        "colab": {}
      },
      "source": [
        "from sklearn.compose import ColumnTransformer"
      ],
      "execution_count": 0,
      "outputs": []
    },
    {
      "cell_type": "code",
      "metadata": {
        "id": "JcwcBIxMS-jE",
        "colab_type": "code",
        "colab": {}
      },
      "source": [
        "preprocessor = ColumnTransformer(transformers)"
      ],
      "execution_count": 0,
      "outputs": []
    },
    {
      "cell_type": "code",
      "metadata": {
        "id": "g8NlfMFqSoZH",
        "colab_type": "code",
        "colab": {}
      },
      "source": [
        "model = RandomForestRegressor(n_estimators=50, random_state=42)\n",
        "pipe = Pipeline(steps=[('preprocessor', preprocessor),\n",
        "                       ('model', model) ])"
      ],
      "execution_count": 0,
      "outputs": []
    },
    {
      "cell_type": "code",
      "metadata": {
        "id": "UIAYQQN0YYji",
        "colab_type": "code",
        "outputId": "fed3455b-4ee0-4ac7-9a97-79c8a39afcbb",
        "colab": {
          "base_uri": "https://localhost:8080/",
          "height": 51
        }
      },
      "source": [
        "from sklearn.model_selection import cross_val_score\n",
        "maes = -1 * cross_val_score(pipe, X, y, cv=5, scoring='neg_mean_absolute_error')\n",
        "maes"
      ],
      "execution_count": 0,
      "outputs": [
        {
          "output_type": "execute_result",
          "data": {
            "text/plain": [
              "array([18249.04086758, 17732.82296804, 18433.61568493, 16276.22940639,\n",
              "       19856.19047945])"
            ]
          },
          "metadata": {
            "tags": []
          },
          "execution_count": 53
        }
      ]
    },
    {
      "cell_type": "code",
      "metadata": {
        "id": "Vb1Siua5UFTa",
        "colab_type": "code",
        "colab": {}
      },
      "source": [
        "pipe.fit(X_treino_sel, y_treino)"
      ],
      "execution_count": 0,
      "outputs": []
    },
    {
      "cell_type": "code",
      "metadata": {
        "id": "qNtnATg7UOz6",
        "colab_type": "code",
        "colab": {}
      },
      "source": [
        "preds = pipe.predict(X_valid_sel)"
      ],
      "execution_count": 0,
      "outputs": []
    },
    {
      "cell_type": "code",
      "metadata": {
        "id": "1snqm47FUXQl",
        "colab_type": "code",
        "outputId": "ee8c080f-172e-4491-d876-fa79e3d629db",
        "colab": {
          "base_uri": "https://localhost:8080/",
          "height": 34
        }
      },
      "source": [
        "mae = mean_absolute_error(y_valid, preds)\n",
        "mae"
      ],
      "execution_count": 0,
      "outputs": [
        {
          "output_type": "execute_result",
          "data": {
            "text/plain": [
              "18400.045182648402"
            ]
          },
          "metadata": {
            "tags": []
          },
          "execution_count": 51
        }
      ]
    },
    {
      "cell_type": "code",
      "metadata": {
        "id": "x8NPrF6hV0rs",
        "colab_type": "code",
        "colab": {}
      },
      "source": [
        ""
      ],
      "execution_count": 0,
      "outputs": []
    }
  ]
}