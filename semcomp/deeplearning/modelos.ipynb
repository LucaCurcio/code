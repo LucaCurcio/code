{
  "nbformat": 4,
  "nbformat_minor": 0,
  "metadata": {
    "colab": {
      "name": "modelos.ipynb",
      "provenance": [],
      "collapsed_sections": []
    },
    "kernelspec": {
      "name": "python3",
      "display_name": "Python 3"
    }
  },
  "cells": [
    {
      "cell_type": "code",
      "metadata": {
        "id": "WeqENHLjqAIr",
        "colab_type": "code",
        "colab": {}
      },
      "source": [
        "import pandas as pd\n",
        "from sklearn import tree\n",
        "from sklearn.metrics import mean_absolute_error\n",
        "from sklearn.model_selection import train_test_split\n",
        "from sklearn.ensemble import RandomForestRegressor"
      ],
      "execution_count": 0,
      "outputs": []
    },
    {
      "cell_type": "code",
      "metadata": {
        "id": "nDXHRc_Fqi8l",
        "colab_type": "code",
        "colab": {}
      },
      "source": [
        "#!wget https://github.com/cassiasamp/semcomp/tree/master/dados/treino.csv\n",
        "#!wget https://github.com/cassiasamp/semcomp/blob/master/dados/teste.csv\n"
      ],
      "execution_count": 0,
      "outputs": []
    },
    {
      "cell_type": "code",
      "metadata": {
        "id": "zgYltz_kqsoj",
        "colab_type": "code",
        "colab": {}
      },
      "source": [
        "dados_treino = pd.read_csv('treino.csv', index_col='Id')\n",
        "dados_teste = pd.read_csv('teste.csv', index_col='Id')"
      ],
      "execution_count": 0,
      "outputs": []
    },
    {
      "cell_type": "code",
      "metadata": {
        "id": "7Rx4K9ggrCRk",
        "colab_type": "code",
        "colab": {}
      },
      "source": [
        "caracteristicas = ['LotArea', 'YearBuilt', '1stFlrSF', '2ndFlrSF', 'FullBath', 'BedroomAbvGr', 'TotRmsAbvGrd' ]"
      ],
      "execution_count": 0,
      "outputs": []
    },
    {
      "cell_type": "code",
      "metadata": {
        "id": "wh8v__UsrXUb",
        "colab_type": "code",
        "colab": {}
      },
      "source": [
        "X = dados_treino[caracteristicas].copy()\n",
        "Y = dados_treino.SalePrice"
      ],
      "execution_count": 0,
      "outputs": []
    },
    {
      "cell_type": "code",
      "metadata": {
        "id": "NI_yQm6hrgJM",
        "colab_type": "code",
        "colab": {}
      },
      "source": [
        "X_treino, X_valid, Y_treino, Y_valid = train_test_split(X, Y, train_size=0.8, test_size=0.2, random_state=42)\n"
      ],
      "execution_count": 0,
      "outputs": []
    },
    {
      "cell_type": "code",
      "metadata": {
        "id": "s73p3tn2r2cM",
        "colab_type": "code",
        "colab": {}
      },
      "source": [
        "modelo_1 = tree.DecisionTreeRegressor(random_state=42)"
      ],
      "execution_count": 0,
      "outputs": []
    },
    {
      "cell_type": "code",
      "metadata": {
        "id": "1JAbdXmsuaPT",
        "colab_type": "code",
        "colab": {}
      },
      "source": [
        "modelo_1.fit(X_treino, Y_treino)\n",
        "preds_1 = modelo_1.predict(X_valid)\n",
        "mae_1 = mean_absolute_error(Y_valid, preds_1)"
      ],
      "execution_count": 0,
      "outputs": []
    },
    {
      "cell_type": "code",
      "metadata": {
        "id": "EDG0W02xuHNp",
        "colab_type": "code",
        "colab": {}
      },
      "source": [
        "modelo_2 = RandomForestRegressor(random_state=42)"
      ],
      "execution_count": 0,
      "outputs": []
    },
    {
      "cell_type": "code",
      "metadata": {
        "id": "qRpJmRotusgk",
        "colab_type": "code",
        "outputId": "ab98bd8a-f8dc-48a5-c3a3-9e22a91ece05",
        "colab": {
          "base_uri": "https://localhost:8080/",
          "height": 71
        }
      },
      "source": [
        "modelo_2.fit(X_treino, Y_treino)\n",
        "preds_2 = modelo_2.predict(X_valid)\n",
        "mae_2 = mean_absolute_error(Y_valid, preds_2)"
      ],
      "execution_count": 0,
      "outputs": [
        {
          "output_type": "stream",
          "text": [
            "/usr/local/lib/python3.6/dist-packages/sklearn/ensemble/forest.py:245: FutureWarning: The default value of n_estimators will change from 10 in version 0.20 to 100 in 0.22.\n",
            "  \"10 in version 0.20 to 100 in 0.22.\", FutureWarning)\n"
          ],
          "name": "stderr"
        }
      ]
    },
    {
      "cell_type": "code",
      "metadata": {
        "id": "4mzlZ_XZvOB7",
        "colab_type": "code",
        "outputId": "9eeb6b5e-e412-400c-a91f-0fe5b9d08ddf",
        "colab": {
          "base_uri": "https://localhost:8080/",
          "height": 51
        }
      },
      "source": [
        "print('MAE do modelo de arvore', mae_1)\n",
        "print('MAE do modelo de floresta', mae_2)\n"
      ],
      "execution_count": 0,
      "outputs": [
        {
          "output_type": "stream",
          "text": [
            "MAE do modelo de arvore 30821.260273972603\n",
            "MAE do modelo de floresta 22740.137181996088\n"
          ],
          "name": "stdout"
        }
      ]
    },
    {
      "cell_type": "code",
      "metadata": {
        "id": "8EovgmbGwAEn",
        "colab_type": "code",
        "colab": {}
      },
      "source": [
        "modelo_3 = RandomForestRegressor(n_estimators=50, random_state=42)\n",
        "modelo_4 = RandomForestRegressor(n_estimators=100, random_state=42)\n",
        "modelo_5 = RandomForestRegressor(n_estimators=200, max_depth=7, random_state=42)\n",
        "modelo_6 = RandomForestRegressor(n_estimators=100, criterion='mse', random_state=42)\n",
        "modelo_7 = RandomForestRegressor(n_estimators=50, min_samples_split=20, random_state=42)\n"
      ],
      "execution_count": 0,
      "outputs": []
    },
    {
      "cell_type": "code",
      "metadata": {
        "id": "ZHnhS6422XV7",
        "colab_type": "code",
        "colab": {}
      },
      "source": [
        "modelos = [modelo_1, modelo_2, modelo_3, modelo_4, modelo_5, modelo_6, modelo_7 ]"
      ],
      "execution_count": 0,
      "outputs": []
    },
    {
      "cell_type": "code",
      "metadata": {
        "id": "urH6oSWw2li-",
        "colab_type": "code",
        "outputId": "6a34fec2-3208-4e5c-8c49-90ff316c52b7",
        "colab": {
          "base_uri": "https://localhost:8080/",
          "height": 136
        }
      },
      "source": [
        "for i in range(0, len(modelos)):\n",
        "  modelos[i].fit(X_treino, Y_treino)\n",
        "  preds = modelos[i].predict(X_valid)\n",
        "  mae = mean_absolute_error(Y_valid, preds)\n",
        "  print('MAE do modelo %d: %d' % (i+1, mae))"
      ],
      "execution_count": 0,
      "outputs": [
        {
          "output_type": "stream",
          "text": [
            "MAE do modelo 1: 30821\n",
            "MAE do modelo 2: 22740\n",
            "MAE do modelo 3: 22411\n",
            "MAE do modelo 4: 22537\n",
            "MAE do modelo 5: 22956\n",
            "MAE do modelo 6: 22537\n",
            "MAE do modelo 7: 22578\n"
          ],
          "name": "stdout"
        }
      ]
    },
    {
      "cell_type": "code",
      "metadata": {
        "id": "HVDL0MPd3Wm1",
        "colab_type": "code",
        "colab": {}
      },
      "source": [
        "X_teste = dados_teste[caracteristicas].copy()"
      ],
      "execution_count": 0,
      "outputs": []
    },
    {
      "cell_type": "code",
      "metadata": {
        "id": "Xj08Q1Lb5wxF",
        "colab_type": "code",
        "outputId": "a9e78497-23e9-4c61-b04e-57f342fff302",
        "colab": {
          "base_uri": "https://localhost:8080/",
          "height": 136
        }
      },
      "source": [
        "modelo_3.fit(X, Y)"
      ],
      "execution_count": 0,
      "outputs": [
        {
          "output_type": "execute_result",
          "data": {
            "text/plain": [
              "RandomForestRegressor(bootstrap=True, criterion='mse', max_depth=None,\n",
              "                      max_features='auto', max_leaf_nodes=None,\n",
              "                      min_impurity_decrease=0.0, min_impurity_split=None,\n",
              "                      min_samples_leaf=1, min_samples_split=2,\n",
              "                      min_weight_fraction_leaf=0.0, n_estimators=50,\n",
              "                      n_jobs=None, oob_score=False, random_state=42, verbose=0,\n",
              "                      warm_start=False)"
            ]
          },
          "metadata": {
            "tags": []
          },
          "execution_count": 26
        }
      ]
    },
    {
      "cell_type": "code",
      "metadata": {
        "id": "n-wWU98q6PH2",
        "colab_type": "code",
        "colab": {}
      },
      "source": [
        "preds_teste = modelo_3.predict(X_teste)"
      ],
      "execution_count": 0,
      "outputs": []
    },
    {
      "cell_type": "code",
      "metadata": {
        "id": "qyr0wqKP6O8V",
        "colab_type": "code",
        "colab": {}
      },
      "source": [
        "res = pd.DataFrame({'Id': X_teste.index, 'SalePrice': preds_teste})"
      ],
      "execution_count": 0,
      "outputs": []
    },
    {
      "cell_type": "code",
      "metadata": {
        "id": "vYURjMzQ68GM",
        "colab_type": "code",
        "colab": {}
      },
      "source": [
        "res.to_csv('resultado_modelos.csv')"
      ],
      "execution_count": 0,
      "outputs": []
    }
  ]
}